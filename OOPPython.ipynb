{
 "cells": [
  {
   "cell_type": "markdown",
   "metadata": {},
   "source": [
    "# OOP Python Assignment\n",
    "## Task 1"
   ]
  },
  {
   "cell_type": "code",
   "execution_count": 21,
   "metadata": {},
   "outputs": [
    {
     "name": "stdout",
     "output_type": "stream",
     "text": [
      "Asus Model 3 Serial# 123\n"
     ]
    }
   ],
   "source": [
    "class ComputerComponent:\n",
    "    def __init__(self, manufacturer=\"\", model=\"\", serial_number=0):\n",
    "        self.manufacturer = manufacturer\n",
    "        self.model = model\n",
    "        self.serial_number = serial_number\n",
    "    \n",
    "    def __str__(self):\n",
    "        return f\"{self.manufacturer} Model {self.model} Serial# {self.serial_number}\"\n",
    "    \n",
    "testcomp = ComputerComponent(\"Asus\",\"3\",123)\n",
    "print(testcomp)"
   ]
  },
  {
   "cell_type": "markdown",
   "metadata": {},
   "source": [
    "## Task 2"
   ]
  },
  {
   "cell_type": "code",
   "execution_count": 22,
   "metadata": {},
   "outputs": [],
   "source": [
    "class CPU(ComputerComponent):\n",
    "    def __init__(self, cores=0, clock_speed=0):\n",
    "        self.cores = cores\n",
    "        self.clock_speed = clock_speed\n",
    "\n",
    "    def __str__(self):\n",
    "        return f\"{self.cores} Cores Clock Speed {self.clock_speed}\"\n",
    "\n",
    "class Memory(ComputerComponent):\n",
    "    def __init__(self, capacity=0):\n",
    "        self.capacity = capacity\n",
    "\n",
    "    def __str__(self):\n",
    "        return f\"{self.capacity} GB\"\n",
    "\n",
    "class Storage(ComputerComponent):\n",
    "    def __init__(self, storage_type=\"\", size=0):\n",
    "        self.storage_type = storage_type\n",
    "        self.size = size\n",
    "\n",
    "    def __str__(self):\n",
    "        return f\"{self.storage_type} {self.size} GB\""
   ]
  },
  {
   "cell_type": "markdown",
   "metadata": {},
   "source": [
    "## Task 3 & 4"
   ]
  },
  {
   "cell_type": "code",
   "execution_count": 23,
   "metadata": {},
   "outputs": [
    {
     "name": "stdout",
     "output_type": "stream",
     "text": [
      "CPU: 8 Cores Clock Speed 100 \n",
      "Memory: 16 GB \n",
      "Storage: Dell 1000 GB\n"
     ]
    }
   ],
   "source": [
    "class Computer:\n",
    "    def __init__(self, cpu, memory, storage):\n",
    "        if isinstance(cpu, CPU):\n",
    "            self.cpu = cpu\n",
    "        else:\n",
    "            raise TypeError(\"Needs to be a CPU\")\n",
    "        if isinstance(memory, Memory):\n",
    "            self.memory = memory\n",
    "        else:\n",
    "            raise TypeError(\"Needs to be Memory\")\n",
    "        if isinstance(storage, Storage):\n",
    "            self.storage = storage\n",
    "        else:\n",
    "            raise TypeError(\"Needs to be Storage\")\n",
    "\n",
    "    def __str__(self):\n",
    "        return f\"CPU: {self.cpu} \\nMemory: {self.memory} \\nStorage: {self.storage}\"\n",
    "    \n",
    "    def swapCpu(self, component):\n",
    "        self.cpu = component\n",
    "\n",
    "    def swapMemory(self, component):\n",
    "        self.memory = component\n",
    "\n",
    "    def swapStorage(self, component):\n",
    "        self.storage = component\n",
    "        \n",
    "    \n",
    "cpu = CPU(8,100)\n",
    "mem = Memory(16)\n",
    "stor = Storage(\"Dell\", 1000)\n",
    "testcomput = Computer(cpu,mem,stor)\n",
    "print(testcomput)"
   ]
  }
 ],
 "metadata": {
  "kernelspec": {
   "display_name": ".venv",
   "language": "python",
   "name": "python3"
  },
  "language_info": {
   "codemirror_mode": {
    "name": "ipython",
    "version": 3
   },
   "file_extension": ".py",
   "mimetype": "text/x-python",
   "name": "python",
   "nbconvert_exporter": "python",
   "pygments_lexer": "ipython3",
   "version": "3.10.7"
  }
 },
 "nbformat": 4,
 "nbformat_minor": 2
}
