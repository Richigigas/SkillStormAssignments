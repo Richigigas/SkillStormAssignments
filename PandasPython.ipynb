{
 "cells": [
  {
   "cell_type": "markdown",
   "metadata": {},
   "source": [
    "# Pandas Excercises\n",
    "## Excercise 1\n",
    "### Get rid of useless columns"
   ]
  },
  {
   "cell_type": "code",
   "execution_count": 243,
   "metadata": {},
   "outputs": [
    {
     "data": {
      "text/html": [
       "<div>\n",
       "<style scoped>\n",
       "    .dataframe tbody tr th:only-of-type {\n",
       "        vertical-align: middle;\n",
       "    }\n",
       "\n",
       "    .dataframe tbody tr th {\n",
       "        vertical-align: top;\n",
       "    }\n",
       "\n",
       "    .dataframe thead th {\n",
       "        text-align: right;\n",
       "    }\n",
       "</style>\n",
       "<table border=\"1\" class=\"dataframe\">\n",
       "  <thead>\n",
       "    <tr style=\"text-align: right;\">\n",
       "      <th></th>\n",
       "      <th>Series_Title</th>\n",
       "      <th>Released_Year</th>\n",
       "      <th>Runtime</th>\n",
       "      <th>Genre</th>\n",
       "      <th>IMDB_Rating</th>\n",
       "      <th>Meta_score</th>\n",
       "      <th>Director</th>\n",
       "      <th>Star1</th>\n",
       "      <th>Star2</th>\n",
       "      <th>Star3</th>\n",
       "      <th>Star4</th>\n",
       "      <th>No_of_Votes</th>\n",
       "      <th>Gross</th>\n",
       "    </tr>\n",
       "  </thead>\n",
       "  <tbody>\n",
       "    <tr>\n",
       "      <th>0</th>\n",
       "      <td>The Shawshank Redemption</td>\n",
       "      <td>1994</td>\n",
       "      <td>142 min</td>\n",
       "      <td>Drama</td>\n",
       "      <td>9.3</td>\n",
       "      <td>80.0</td>\n",
       "      <td>Frank Darabont</td>\n",
       "      <td>Tim Robbins</td>\n",
       "      <td>Morgan Freeman</td>\n",
       "      <td>Bob Gunton</td>\n",
       "      <td>William Sadler</td>\n",
       "      <td>2343110</td>\n",
       "      <td>28,341,469</td>\n",
       "    </tr>\n",
       "    <tr>\n",
       "      <th>1</th>\n",
       "      <td>The Godfather</td>\n",
       "      <td>1972</td>\n",
       "      <td>175 min</td>\n",
       "      <td>Crime, Drama</td>\n",
       "      <td>9.2</td>\n",
       "      <td>100.0</td>\n",
       "      <td>Francis Ford Coppola</td>\n",
       "      <td>Marlon Brando</td>\n",
       "      <td>Al Pacino</td>\n",
       "      <td>James Caan</td>\n",
       "      <td>Diane Keaton</td>\n",
       "      <td>1620367</td>\n",
       "      <td>134,966,411</td>\n",
       "    </tr>\n",
       "    <tr>\n",
       "      <th>2</th>\n",
       "      <td>The Dark Knight</td>\n",
       "      <td>2008</td>\n",
       "      <td>152 min</td>\n",
       "      <td>Action, Crime, Drama</td>\n",
       "      <td>9.0</td>\n",
       "      <td>84.0</td>\n",
       "      <td>Christopher Nolan</td>\n",
       "      <td>Christian Bale</td>\n",
       "      <td>Heath Ledger</td>\n",
       "      <td>Aaron Eckhart</td>\n",
       "      <td>Michael Caine</td>\n",
       "      <td>2303232</td>\n",
       "      <td>534,858,444</td>\n",
       "    </tr>\n",
       "    <tr>\n",
       "      <th>3</th>\n",
       "      <td>The Godfather: Part II</td>\n",
       "      <td>1974</td>\n",
       "      <td>202 min</td>\n",
       "      <td>Crime, Drama</td>\n",
       "      <td>9.0</td>\n",
       "      <td>90.0</td>\n",
       "      <td>Francis Ford Coppola</td>\n",
       "      <td>Al Pacino</td>\n",
       "      <td>Robert De Niro</td>\n",
       "      <td>Robert Duvall</td>\n",
       "      <td>Diane Keaton</td>\n",
       "      <td>1129952</td>\n",
       "      <td>57,300,000</td>\n",
       "    </tr>\n",
       "    <tr>\n",
       "      <th>4</th>\n",
       "      <td>12 Angry Men</td>\n",
       "      <td>1957</td>\n",
       "      <td>96 min</td>\n",
       "      <td>Crime, Drama</td>\n",
       "      <td>9.0</td>\n",
       "      <td>96.0</td>\n",
       "      <td>Sidney Lumet</td>\n",
       "      <td>Henry Fonda</td>\n",
       "      <td>Lee J. Cobb</td>\n",
       "      <td>Martin Balsam</td>\n",
       "      <td>John Fiedler</td>\n",
       "      <td>689845</td>\n",
       "      <td>4,360,000</td>\n",
       "    </tr>\n",
       "  </tbody>\n",
       "</table>\n",
       "</div>"
      ],
      "text/plain": [
       "               Series_Title Released_Year  Runtime                 Genre  \\\n",
       "0  The Shawshank Redemption          1994  142 min                 Drama   \n",
       "1             The Godfather          1972  175 min          Crime, Drama   \n",
       "2           The Dark Knight          2008  152 min  Action, Crime, Drama   \n",
       "3    The Godfather: Part II          1974  202 min          Crime, Drama   \n",
       "4              12 Angry Men          1957   96 min          Crime, Drama   \n",
       "\n",
       "   IMDB_Rating  Meta_score              Director           Star1  \\\n",
       "0          9.3        80.0        Frank Darabont     Tim Robbins   \n",
       "1          9.2       100.0  Francis Ford Coppola   Marlon Brando   \n",
       "2          9.0        84.0     Christopher Nolan  Christian Bale   \n",
       "3          9.0        90.0  Francis Ford Coppola       Al Pacino   \n",
       "4          9.0        96.0          Sidney Lumet     Henry Fonda   \n",
       "\n",
       "            Star2          Star3           Star4  No_of_Votes        Gross  \n",
       "0  Morgan Freeman     Bob Gunton  William Sadler      2343110   28,341,469  \n",
       "1       Al Pacino     James Caan    Diane Keaton      1620367  134,966,411  \n",
       "2    Heath Ledger  Aaron Eckhart   Michael Caine      2303232  534,858,444  \n",
       "3  Robert De Niro  Robert Duvall    Diane Keaton      1129952   57,300,000  \n",
       "4     Lee J. Cobb  Martin Balsam    John Fiedler       689845    4,360,000  "
      ]
     },
     "execution_count": 243,
     "metadata": {},
     "output_type": "execute_result"
    }
   ],
   "source": [
    "import pandas as pd\n",
    "\n",
    "df = pd.read_csv(\"C:\\\\Users\\\\Richa\\\\Documents\\\\SkillStorm Python\\\\Data\\\\imdb_top_1000.csv\")\n",
    "new_df = df.drop([\"Poster_Link\",\"Certificate\",\"Overview\"], axis=\"columns\")\n",
    "new_df.head()"
   ]
  },
  {
   "cell_type": "markdown",
   "metadata": {},
   "source": [
    "### Oldest movie"
   ]
  },
  {
   "cell_type": "code",
   "execution_count": 244,
   "metadata": {},
   "outputs": [
    {
     "data": {
      "text/plain": [
       "'Das Cabinet des Dr. Caligari'"
      ]
     },
     "execution_count": 244,
     "metadata": {},
     "output_type": "execute_result"
    }
   ],
   "source": [
    "df_clean_years = df[df[\"Released_Year\"].str.isnumeric() ==True]\n",
    "df_years_asc = df_clean_years.sort_values(\"Released_Year\")\n",
    "df_years_asc.reset_index(inplace=True,drop=True)\n",
    "df_years_asc.at[0, \"Series_Title\"]"
   ]
  },
  {
   "cell_type": "markdown",
   "metadata": {},
   "source": [
    "### Newest movie"
   ]
  },
  {
   "cell_type": "code",
   "execution_count": 245,
   "metadata": {},
   "outputs": [
    {
     "data": {
      "text/plain": [
       "'Druk'"
      ]
     },
     "execution_count": 245,
     "metadata": {},
     "output_type": "execute_result"
    }
   ],
   "source": [
    "df_years_desc = df_clean_years.sort_values(\"Released_Year\", ascending=False)\n",
    "df_years_desc.reset_index(inplace=True,drop=True)\n",
    "df_years_desc.at[0, \"Series_Title\"]"
   ]
  },
  {
   "cell_type": "markdown",
   "metadata": {},
   "source": [
    "### Top 10 movies by IMDB rating"
   ]
  },
  {
   "cell_type": "code",
   "execution_count": 246,
   "metadata": {},
   "outputs": [
    {
     "data": {
      "text/plain": [
       "0                          The Shawshank Redemption\n",
       "1                                     The Godfather\n",
       "2                                      12 Angry Men\n",
       "3                                   The Dark Knight\n",
       "4                            The Godfather: Part II\n",
       "5     The Lord of the Rings: The Return of the King\n",
       "6                                  Schindler's List\n",
       "7                                      Pulp Fiction\n",
       "8                                         Inception\n",
       "9                   Il buono, il brutto, il cattivo\n",
       "10                                     Forrest Gump\n",
       "Name: Series_Title, dtype: object"
      ]
     },
     "execution_count": 246,
     "metadata": {},
     "output_type": "execute_result"
    }
   ],
   "source": [
    "df_imdb_desc = df_clean_years.sort_values(\"IMDB_Rating\", ascending=False)\n",
    "df_imdb_desc.reset_index(inplace=True,drop=True)\n",
    "df_imdb_desc.loc[0:10, \"Series_Title\"]"
   ]
  },
  {
   "cell_type": "markdown",
   "metadata": {},
   "source": [
    "### Top movie for each genre"
   ]
  },
  {
   "cell_type": "code",
   "execution_count": 247,
   "metadata": {},
   "outputs": [
    {
     "name": "stdout",
     "output_type": "stream",
     "text": [
      "        Genres                                    Series_Title  IMDB_Rating\n",
      "0        Drama                        The Shawshank Redemption          9.3\n",
      "1        Crime                                   The Godfather          9.2\n",
      "2       Action                                 The Dark Knight          9.0\n",
      "7      History                                Schindler's List          8.9\n",
      "7    Biography                                Schindler's List          8.9\n",
      "5    Adventure   The Lord of the Rings: The Return of the King          8.9\n",
      "11     Romance                                    Forrest Gump          8.8\n",
      "12     Western                 Il buono, il brutto, il cattivo          8.8\n",
      "8       Sci-Fi                                       Inception          8.8\n",
      "16     Fantasy  Star Wars: Episode V - The Empire Strikes Back          8.7\n",
      "23   Animation                   Sen to Chihiro no kamikakushi          8.6\n",
      "26      Comedy                                 La vita è bella          8.6\n",
      "27     Mystery                                           Se7en          8.6\n",
      "19    Thriller                                    Gisaengchung          8.6\n",
      "32      Family                           It's a Wonderful Life          8.6\n",
      "24         War                             Saving Private Ryan          8.6\n",
      "34       Music                                        Whiplash          8.5\n",
      "49      Horror                                          Psycho          8.5\n",
      "82   Film-Noir                                    Sunset Blvd.          8.4\n",
      "76     Musical                                           Anand          8.4\n",
      "100      Sport                               Bacheha-Ye aseman          8.3\n"
     ]
    }
   ],
   "source": [
    "df_genres = df_clean_years.copy()\n",
    "df_genres[\"Genres\"] = df_clean_years[\"Genre\"].str.split(\", \")\n",
    "df_genres = df_genres.explode(\"Genres\")\n",
    "df_genres = df_genres.sort_values(\"IMDB_Rating\", ascending=False)\n",
    "df_genres.drop_duplicates(subset=\"Genres\", inplace=True)\n",
    "print(df_genres[[\"Genres\", \"Series_Title\", \"IMDB_Rating\"]])"
   ]
  },
  {
   "cell_type": "markdown",
   "metadata": {},
   "source": [
    "### Director with the most movies"
   ]
  },
  {
   "cell_type": "code",
   "execution_count": 248,
   "metadata": {},
   "outputs": [
    {
     "data": {
      "text/plain": [
       "'Alfred Hitchcock'"
      ]
     },
     "execution_count": 248,
     "metadata": {},
     "output_type": "execute_result"
    }
   ],
   "source": [
    "df_clean_years[\"Director\"].value_counts().index[0]"
   ]
  },
  {
   "cell_type": "markdown",
   "metadata": {},
   "source": [
    "### Star with the most movies"
   ]
  },
  {
   "cell_type": "code",
   "execution_count": 249,
   "metadata": {},
   "outputs": [
    {
     "name": "stderr",
     "output_type": "stream",
     "text": [
      "C:\\Users\\Richa\\AppData\\Local\\Temp\\ipykernel_23284\\2159769853.py:2: SettingWithCopyWarning: \n",
      "A value is trying to be set on a copy of a slice from a DataFrame.\n",
      "Try using .loc[row_indexer,col_indexer] = value instead\n",
      "\n",
      "See the caveats in the documentation: https://pandas.pydata.org/pandas-docs/stable/user_guide/indexing.html#returning-a-view-versus-a-copy\n",
      "  df_stars[\"Stars\"] = df_stars[[\"Star1\",\"Star2\",\"Star3\",\"Star4\"]].values.tolist()\n"
     ]
    },
    {
     "data": {
      "text/plain": [
       "'Robert De Niro'"
      ]
     },
     "execution_count": 249,
     "metadata": {},
     "output_type": "execute_result"
    }
   ],
   "source": [
    "df_stars = df_clean_years\n",
    "df_stars[\"Stars\"] = df_stars[[\"Star1\",\"Star2\",\"Star3\",\"Star4\"]].values.tolist()\n",
    "df_stars = df_stars.explode(\"Stars\")\n",
    "df_stars[\"Stars\"].value_counts().index[0]"
   ]
  },
  {
   "cell_type": "markdown",
   "metadata": {},
   "source": [
    "### Highest grossing movie for each genre"
   ]
  },
  {
   "cell_type": "code",
   "execution_count": 250,
   "metadata": {},
   "outputs": [
    {
     "name": "stdout",
     "output_type": "stream",
     "text": [
      "        Genres                                Series_Title      Gross\n",
      "477     Sci-Fi  Star Wars: Episode VII - The Force Awakens  936662225\n",
      "477     Action  Star Wars: Episode VII - The Force Awakens  936662225\n",
      "477  Adventure  Star Wars: Episode VII - The Force Awakens  936662225\n",
      "59       Drama                           Avengers: Endgame  858373000\n",
      "623    Fantasy                                      Avatar  760507625\n",
      "652    Romance                                     Titanic  659325379\n",
      "891  Animation                               Incredibles 2  608581744\n",
      "2        Crime                             The Dark Knight  534858444\n",
      "688     Family                  E.T. the Extra-Terrestrial  435110554\n",
      "596     Comedy                                 Toy Story 4  434038008\n",
      "33    Thriller                                       Joker  335451311\n",
      "248    Mystery                             The Sixth Sense  293506292\n",
      "915      Sport                              The Blind Side  255959475\n",
      "915  Biography                              The Blind Side  255959475\n",
      "419     Horror                                The Exorcist  232906145\n",
      "24         War                         Saving Private Ryan  216540909\n",
      "342      Music                           Bohemian Rhapsody  216428042\n",
      "314    History                          Gone with the Wind  198676459\n",
      "402    Western                          Dances with Wolves  184208848\n",
      "422    Musical                         Fiddler on the Roof   80500000\n",
      "559  Film-Noir                                   Notorious   10464000\n"
     ]
    }
   ],
   "source": [
    "df_clean_gross = df_clean_years.copy()\n",
    "df_clean_gross.dropna(axis=0, inplace=True)\n",
    "df_clean_gross[\"Gross\"] = df_clean_gross[\"Gross\"].str.replace(\",\",\"\").astype(int)\n",
    "df_genres = df_clean_gross.copy()\n",
    "df_genres[\"Genres\"] = df_clean_gross[\"Genre\"].str.split(\", \")\n",
    "df_genres = df_genres.explode(\"Genres\")\n",
    "df_genres = df_genres.sort_values(\"Gross\", ascending=False)\n",
    "df_genres.drop_duplicates(subset=\"Genres\", inplace=True)\n",
    "print(df_genres[[\"Genres\", \"Series_Title\", \"Gross\"]])"
   ]
  },
  {
   "cell_type": "markdown",
   "metadata": {},
   "source": [
    "### Lowest grossing movie for each director"
   ]
  },
  {
   "cell_type": "code",
   "execution_count": 251,
   "metadata": {},
   "outputs": [
    {
     "name": "stdout",
     "output_type": "stream",
     "text": [
      "                 Director       Series_Title      Gross\n",
      "630  Anders Thomas Jensen        Adams æbler       1305\n",
      "624      Jaco Van Dormael         Mr. Nobody       3600\n",
      "356          José Padilha     Tropa de Elite       8060\n",
      "190  Joseph L. Mankiewicz      All About Eve      10177\n",
      "187      Alfred Hitchcock  Dial M for Murder      12562\n",
      "..                    ...                ...        ...\n",
      "330          Byron Howard           Zootopia  341268248\n",
      "348            Tim Miller           Deadpool  363070709\n",
      "43           Roger Allers      The Lion King  422783777\n",
      "596           Josh Cooley        Toy Story 4  434038008\n",
      "582        Gareth Edwards          Rogue One  532177324\n",
      "\n",
      "[402 rows x 3 columns]\n"
     ]
    }
   ],
   "source": [
    "df_directors = df_clean_gross.copy()\n",
    "df_directors = df_directors.sort_values(\"Gross\", ascending=True)\n",
    "df_directors.drop_duplicates(subset=\"Director\", inplace=True)\n",
    "print(df_directors[[\"Director\", \"Series_Title\", \"Gross\"]])"
   ]
  },
  {
   "cell_type": "markdown",
   "metadata": {},
   "source": [
    "### Save the dataframe as a parquet file"
   ]
  },
  {
   "cell_type": "code",
   "execution_count": 252,
   "metadata": {},
   "outputs": [],
   "source": [
    "df_clean_gross.to_parquet(\"C:\\\\Users\\\\Richa\\\\Documents\\\\SkillStorm Python\\\\df_clean_gross.parquet\")"
   ]
  },
  {
   "cell_type": "markdown",
   "metadata": {},
   "source": [
    "### Aggregate the gross revenue for all 1000 movies."
   ]
  },
  {
   "cell_type": "code",
   "execution_count": 253,
   "metadata": {},
   "outputs": [
    {
     "name": "stdout",
     "output_type": "stream",
     "text": [
      "55884861928\n"
     ]
    }
   ],
   "source": [
    "print(df_clean_gross[\"Gross\"].sum())"
   ]
  }
 ],
 "metadata": {
  "kernelspec": {
   "display_name": ".venv",
   "language": "python",
   "name": "python3"
  },
  "language_info": {
   "codemirror_mode": {
    "name": "ipython",
    "version": 3
   },
   "file_extension": ".py",
   "mimetype": "text/x-python",
   "name": "python",
   "nbconvert_exporter": "python",
   "pygments_lexer": "ipython3",
   "version": "3.10.7"
  }
 },
 "nbformat": 4,
 "nbformat_minor": 2
}
