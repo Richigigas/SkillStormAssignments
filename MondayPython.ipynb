{
 "cells": [
  {
   "cell_type": "markdown",
   "metadata": {},
   "source": [
    "# Monday Python Assignment\n",
    "## Excercise 1"
   ]
  },
  {
   "cell_type": "code",
   "execution_count": 11,
   "metadata": {},
   "outputs": [
    {
     "name": "stdout",
     "output_type": "stream",
     "text": [
      "2024-06-17 15:29:15.177670\n",
      "2024-06-17\n",
      "240 days, 8:30:44.822330\n"
     ]
    }
   ],
   "source": [
    "import datetime\n",
    "print(datetime.datetime.now())\n",
    "\n",
    "now = datetime.datetime.now()\n",
    "print(now.strftime('%Y-%m-%d'))\n",
    "\n",
    "birthday = datetime.datetime(now.year + 1, 2, 13)\n",
    "daysDiff = birthday - now\n",
    "print(str(daysDiff))"
   ]
  },
  {
   "cell_type": "markdown",
   "metadata": {},
   "source": [
    "## Excercise 2"
   ]
  },
  {
   "cell_type": "code",
   "execution_count": 20,
   "metadata": {},
   "outputs": [
    {
     "name": "stdout",
     "output_type": "stream",
     "text": [
      "{'John': 'B+', 'Susan': 'A-', 'Tim': 'A'}\n",
      "{'John': 'B+', 'Susan': 'A-', 'Tim': 'A', 'Lisa': 'C-'}\n",
      "{'John': {'Chemistry', 'Biology'}, 'Susan': {'Chemistry', 'History'}, 'Tim': {'English', 'Biology'}, 'Lisa': {'Physics', 'Math'}}\n",
      "{'John', 'Lisa', 'Tim', 'Susan'}\n"
     ]
    }
   ],
   "source": [
    "studentDict = {\n",
    "    \"John\" : \"B+\",\n",
    "    \"Susan\" : \"A-\",\n",
    "    \"Tim\" : \"A\"\n",
    "}\n",
    "print(studentDict)\n",
    "\n",
    "studentDict[\"Lisa\"] = \"C-\"\n",
    "print(studentDict)\n",
    "\n",
    "studentDict.update({\n",
    "    \"John\" : {\"Biology\",\"Chemistry\"},\n",
    "    \"Susan\" : {\"History\",\"Chemistry\"},\n",
    "    \"Tim\" : {\"Biology\",\"English\"},\n",
    "    \"Lisa\" : {\"Math\",\"Physics\"}\n",
    "})\n",
    "print(studentDict)\n",
    "\n",
    "studentSet = {\"John\", \"Susan\", \"Tim\", \"Lisa\"}\n",
    "print(studentSet)"
   ]
  },
  {
   "cell_type": "markdown",
   "metadata": {},
   "source": [
    "## Excercise 3"
   ]
  },
  {
   "cell_type": "code",
   "execution_count": 26,
   "metadata": {},
   "outputs": [
    {
     "name": "stdout",
     "output_type": "stream",
     "text": [
      "['Henry', 'ran', 'to', 'the', 'park']\n",
      "fly|tree|house|cook\n",
      "3\n"
     ]
    }
   ],
   "source": [
    "my_string = \"Henry ran to the park\"\n",
    "print(my_string.split())\n",
    "\n",
    "my_list = [\"fly\", \"tree\", \"house\", \"cook\"]\n",
    "delim = \"|\"\n",
    "new_string = delim.join([str(elem) for elem in my_list])\n",
    "print(new_string)\n",
    "\n",
    "count = 0\n",
    "for char in my_string:\n",
    "    if(char == 'r'):\n",
    "        count += 1\n",
    "print(count)"
   ]
  },
  {
   "cell_type": "markdown",
   "metadata": {},
   "source": [
    "## Excercise 4"
   ]
  },
  {
   "cell_type": "code",
   "execution_count": 27,
   "metadata": {},
   "outputs": [
    {
     "name": "stdout",
     "output_type": "stream",
     "text": [
      "[2, 7, 13, 8, 5]\n",
      "[2, 7, 13, 8, 5, 30]\n",
      "[2, 13, 8, 5, 30]\n",
      "[2, 5, 8, 13, 30]\n"
     ]
    }
   ],
   "source": [
    "my_list = [2, 7, 13, 8, 5]\n",
    "print(my_list)\n",
    "\n",
    "my_list.append(30)\n",
    "print(my_list)\n",
    "\n",
    "my_list.remove(7)\n",
    "print(my_list)\n",
    "\n",
    "my_list.sort()\n",
    "print(my_list)"
   ]
  },
  {
   "cell_type": "markdown",
   "metadata": {},
   "source": [
    "# Challenge Assignments\n",
    "## Challenge 1"
   ]
  },
  {
   "cell_type": "code",
   "execution_count": 39,
   "metadata": {},
   "outputs": [
    {
     "name": "stdout",
     "output_type": "stream",
     "text": [
      "[1, 2, 3, 4, 5, 6, 7, 8, 9, 10]\n",
      "[1, 4, 9, 16, 25, 36, 49, 64, 81, 100]\n",
      "[2, 4, 6, 8, 10]\n",
      "{1: 6, 2: 7, 3: 8, 4: 9, 5: 10}\n"
     ]
    }
   ],
   "source": [
    "int_list = [1,2,3,4,5,6,7,8,9,10]\n",
    "print(int_list)\n",
    "squareInt_list = [item**2 for item in int_list]\n",
    "print(squareInt_list)\n",
    "\n",
    "even_list = int_list\n",
    "for item in even_list:\n",
    "    if(not item % 2 == 0):\n",
    "        even_list.remove(item)\n",
    "\n",
    "print(even_list)\n",
    "\n",
    "test_list = [1,2,3,4,5]\n",
    "test_list2 = [6,7,8,9,10]\n",
    "my_dict = {k:v for (k,v) in zip(test_list, test_list2)}\n",
    "print(my_dict)"
   ]
  },
  {
   "cell_type": "markdown",
   "metadata": {},
   "source": [
    "## Challenge 2"
   ]
  },
  {
   "cell_type": "code",
   "execution_count": 42,
   "metadata": {},
   "outputs": [
    {
     "name": "stdout",
     "output_type": "stream",
     "text": [
      "2024-10-13 00:00:00\n"
     ]
    },
    {
     "ename": "TypeError",
     "evalue": "'str' object is not callable",
     "output_type": "error",
     "traceback": [
      "\u001b[1;31m---------------------------------------------------------------------------\u001b[0m",
      "\u001b[1;31mTypeError\u001b[0m                                 Traceback (most recent call last)",
      "Cell \u001b[1;32mIn[42], line 5\u001b[0m\n\u001b[0;32m      2\u001b[0m date_object \u001b[39m=\u001b[39m datetime\u001b[39m.\u001b[39mdatetime\u001b[39m.\u001b[39mstrptime(date, \u001b[39m\"\u001b[39m\u001b[39m%\u001b[39m\u001b[39mY-\u001b[39m\u001b[39m%\u001b[39m\u001b[39mm-\u001b[39m\u001b[39m%d\u001b[39;00m\u001b[39m\"\u001b[39m)\n\u001b[0;32m      3\u001b[0m \u001b[39mprint\u001b[39m(date_object)\n\u001b[1;32m----> 5\u001b[0m date1 \u001b[39m=\u001b[39m date(\u001b[39m2020\u001b[39;49m, \u001b[39m4\u001b[39;49m, \u001b[39m11\u001b[39;49m)\n\u001b[0;32m      6\u001b[0m date2 \u001b[39m=\u001b[39m date(\u001b[39m2023\u001b[39m, \u001b[39m6\u001b[39m, \u001b[39m8\u001b[39m)\n\u001b[0;32m      7\u001b[0m total_days \u001b[39m=\u001b[39m date1\u001b[39m.\u001b[39mday \u001b[39m-\u001b[39m date2\u001b[39m.\u001b[39mday\n",
      "\u001b[1;31mTypeError\u001b[0m: 'str' object is not callable"
     ]
    }
   ],
   "source": [
    "date = \"2024-10-13\"\n",
    "date_object = datetime.datetime.strptime(date, \"%Y-%m-%d\")\n",
    "print(date_object)\n",
    "\n",
    "date1 = date(2020, 4, 11)\n",
    "date2 = date(2023, 6, 8)\n",
    "\n",
    "\n",
    "def weekdayFunc(start,end):\n",
    "    \n",
    "\n"
   ]
  }
 ],
 "metadata": {
  "kernelspec": {
   "display_name": "Python 3",
   "language": "python",
   "name": "python3"
  },
  "language_info": {
   "codemirror_mode": {
    "name": "ipython",
    "version": 3
   },
   "file_extension": ".py",
   "mimetype": "text/x-python",
   "name": "python",
   "nbconvert_exporter": "python",
   "pygments_lexer": "ipython3",
   "version": "3.10.7"
  },
  "orig_nbformat": 4
 },
 "nbformat": 4,
 "nbformat_minor": 2
}
