{
 "cells": [
  {
   "cell_type": "markdown",
   "metadata": {},
   "source": [
    "# Tuesday Python Assignment\n",
    "# Excercise 1"
   ]
  },
  {
   "cell_type": "code",
   "execution_count": 1,
   "metadata": {},
   "outputs": [
    {
     "name": "stdout",
     "output_type": "stream",
     "text": [
      "True\n",
      "True\n",
      "False\n",
      "True\n",
      "False\n"
     ]
    }
   ],
   "source": [
    "input_string = \"test\"\n",
    "def string_validator(input: str):\n",
    "    if(any(i.isalnum() for i in input)):\n",
    "        print(\"True\")\n",
    "    else:\n",
    "        print(\"False\")\n",
    "    if(any(i.isalpha() for i in input)):\n",
    "        print(\"True\")\n",
    "    else:\n",
    "        print(\"False\")\n",
    "    if(any(i.isdigit() for i in input)):\n",
    "        print(\"True\")\n",
    "    else:\n",
    "        print(\"False\")\n",
    "    if(any(i.islower() for i in input)):\n",
    "        print(\"True\")\n",
    "    else:\n",
    "        print(\"False\")\n",
    "    if(any(i.isupper() for i in input)):\n",
    "        print(\"True\")\n",
    "    else:\n",
    "        print(\"False\")\n",
    "\n",
    "string_validator(input_string)\n"
   ]
  },
  {
   "cell_type": "markdown",
   "metadata": {},
   "source": [
    "## Excercise 2"
   ]
  },
  {
   "cell_type": "code",
   "execution_count": 49,
   "metadata": {},
   "outputs": [
    {
     "name": "stdout",
     "output_type": "stream",
     "text": [
      "['test']\n",
      "[' 1']\n",
      "['close.']\n",
      "['12', '231']\n"
     ]
    }
   ],
   "source": [
    "import re\n",
    "\n",
    "test_string = \"test string 1451289231989 close.\"\n",
    "match = re.findall(r\"^\\w+\", test_string)\n",
    "match2 = re.findall(r\"\\s\\d\", test_string)\n",
    "match3 = re.findall(r\"\\w+[.!?]$\", test_string)\n",
    "match4 = re.findall(r\"[123]{2,}\", test_string)\n",
    "match5 = re.findall(r\"\\b.*([a-zA-Z])\\1.*\\b\", test_string)\n",
    "\n",
    "print(match)\n",
    "print(match2)\n",
    "print(match3)\n",
    "print(match4)"
   ]
  },
  {
   "cell_type": "markdown",
   "metadata": {},
   "source": [
    "## Excercise 3"
   ]
  },
  {
   "cell_type": "code",
   "execution_count": 1,
   "metadata": {},
   "outputs": [
    {
     "name": "stdout",
     "output_type": "stream",
     "text": [
      "The amount of words in Pride and Prejucide is 124465\n"
     ]
    }
   ],
   "source": [
    "file_path = \"C:\\\\Users\\\\Richa\\\\Documents\\\\SkillStormJustinRepo\\\\20240617-DE-TS-LectureMaterials\\\\Python\\\\Data\\\\Pride_and_Prejudice.txt\"\n",
    "\n",
    "with open(file = file_path, mode = 'rt', encoding ='utf-8') as f:\n",
    "    f.seek(1982)\n",
    "    full = f.read()\n",
    "    \n",
    "words = full.split()\n",
    "#print(words)\n",
    "print(\"The amount of words in Pride and Prejucide is\", len(words))"
   ]
  },
  {
   "cell_type": "markdown",
   "metadata": {},
   "source": [
    "## Excercise 4"
   ]
  },
  {
   "cell_type": "code",
   "execution_count": 2,
   "metadata": {},
   "outputs": [
    {
     "name": "stdout",
     "output_type": "stream",
     "text": [
      "6\n"
     ]
    }
   ],
   "source": [
    "import re\n",
    "\n",
    "vowels = r'[aeiouy]'\n",
    "\n",
    "def word_score(*words):\n",
    "    score = 0\n",
    "    for word in words:\n",
    "        vowel_count = len(re.findall(vowels, word))\n",
    "        if(vowel_count%2==0):\n",
    "            score += 2\n",
    "        else:\n",
    "            score += 1\n",
    "    print(score)\n",
    "\n",
    "\n",
    "word_score(\"hammer\",\"smith\",\"cow\",\"lean\")\n"
   ]
  }
 ],
 "metadata": {
  "kernelspec": {
   "display_name": "Python 3",
   "language": "python",
   "name": "python3"
  },
  "language_info": {
   "codemirror_mode": {
    "name": "ipython",
    "version": 3
   },
   "file_extension": ".py",
   "mimetype": "text/x-python",
   "name": "python",
   "nbconvert_exporter": "python",
   "pygments_lexer": "ipython3",
   "version": "3.10.7"
  }
 },
 "nbformat": 4,
 "nbformat_minor": 2
}
